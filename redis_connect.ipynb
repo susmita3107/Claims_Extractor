{
 "cells": [
  {
   "cell_type": "code",
   "execution_count": 1,
   "id": "c69db026",
   "metadata": {},
   "outputs": [],
   "source": [
    "import redis"
   ]
  },
  {
   "cell_type": "code",
   "execution_count": 3,
   "id": "9bc1ba1e",
   "metadata": {},
   "outputs": [
    {
     "name": "stdout",
     "output_type": "stream",
     "text": [
      "b'Hello from Python!'\n",
      "[b'bike', b'car']\n"
     ]
    }
   ],
   "source": [
    " import redis\n",
    "\n",
    " redis = redis.Redis(\n",
    "     host= 'localhost',\n",
    "     port= '6379')\n",
    "\n",
    " redis.set('mykey', 'Hello from Python!')\n",
    " value = redis.get('mykey') \n",
    " print(value)\n",
    "\n",
    " redis.zadd('vehicles', {'car' : 0})\n",
    " redis.zadd('vehicles', {'bike' : 0})\n",
    " vehicles = redis.zrange('vehicles', 0, -1)\n",
    " print(vehicles)"
   ]
  },
  {
   "cell_type": "code",
   "execution_count": 5,
   "id": "c47cb9c2",
   "metadata": {},
   "outputs": [
    {
     "ename": "NameError",
     "evalue": "name 'claimskg' is not defined",
     "output_type": "error",
     "traceback": [
      "\u001b[1;31m---------------------------------------------------------------------------\u001b[0m",
      "\u001b[1;31mNameError\u001b[0m                                 Traceback (most recent call last)",
      "Input \u001b[1;32mIn [5]\u001b[0m, in \u001b[0;36m<cell line: 1>\u001b[1;34m()\u001b[0m\n\u001b[1;32m----> 1\u001b[0m \u001b[38;5;28mprint\u001b[39m(\u001b[43mclaimskg\u001b[49m)\n",
      "\u001b[1;31mNameError\u001b[0m: name 'claimskg' is not defined"
     ]
    }
   ],
   "source": [
    "print(claimskg)"
   ]
  },
  {
   "cell_type": "code",
   "execution_count": 6,
   "id": "a194db28",
   "metadata": {},
   "outputs": [],
   "source": [
    " import redis\n",
    "\n",
    " redis = redis.Redis(\n",
    "     host= 'localhost',\n",
    "     port= '6379')"
   ]
  },
  {
   "cell_type": "code",
   "execution_count": 7,
   "id": "8b034b99",
   "metadata": {},
   "outputs": [
    {
     "ename": "NameError",
     "evalue": "name 'claim' is not defined",
     "output_type": "error",
     "traceback": [
      "\u001b[1;31m---------------------------------------------------------------------------\u001b[0m",
      "\u001b[1;31mNameError\u001b[0m                                 Traceback (most recent call last)",
      "Input \u001b[1;32mIn [7]\u001b[0m, in \u001b[0;36m<cell line: 1>\u001b[1;34m()\u001b[0m\n\u001b[1;32m----> 1\u001b[0m \u001b[38;5;28mprint\u001b[39m(\u001b[43mclaim\u001b[49m)\n",
      "\u001b[1;31mNameError\u001b[0m: name 'claim' is not defined"
     ]
    }
   ],
   "source": [
    "print(claim)"
   ]
  },
  {
   "cell_type": "code",
   "execution_count": null,
   "id": "d21ffa82",
   "metadata": {},
   "outputs": [],
   "source": []
  }
 ],
 "metadata": {
  "kernelspec": {
   "display_name": "Python 3 (ipykernel)",
   "language": "python",
   "name": "python3"
  },
  "language_info": {
   "codemirror_mode": {
    "name": "ipython",
    "version": 3
   },
   "file_extension": ".py",
   "mimetype": "text/x-python",
   "name": "python",
   "nbconvert_exporter": "python",
   "pygments_lexer": "ipython3",
   "version": "3.9.7"
  }
 },
 "nbformat": 4,
 "nbformat_minor": 5
}
