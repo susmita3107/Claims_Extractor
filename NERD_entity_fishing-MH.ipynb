{
 "cells": [
  {
   "cell_type": "code",
   "execution_count": 77,
   "id": "2621bfb1",
   "metadata": {},
   "outputs": [],
   "source": [
    "from nerd import nerd_client\n",
    "client = nerd_client.NerdClient()\n"
   ]
  },
  {
   "cell_type": "markdown",
   "id": "8c8a3ebf",
   "metadata": {},
   "source": [
    "Spacy: SpaCy is a popular open-source NLP library that provides pre-trained NER models for various languages. It offers high accuracy and efficiency.\n",
    "\n",
    "NLTK (Natural Language Toolkit): NLTK is another open-source library for NLP in Python that provides NER capabilities.\n",
    "\n",
    "Stanford NER: Developed by Stanford NLP Group, this tool provides pre-trained models that can recognize named entities in multiple languages.\n",
    "\n",
    "BERT (Bidirectional Encoder Representations from Transformers): While BERT is primarily known for its contextualized word embeddings, it can also be fine-tuned for NER tasks and has achieved state-of-the-art results.\n",
    "\n",
    "GPT-3: OpenAI's GPT-3, though primarily designed for text generation, can also perform NER tasks to some extent due to its language understanding capabilities.\n",
    "\n",
    "Flair: Flair is an NLP library developed by Zalando Research that provides state-of-the-art NER models with contextual embeddings.\n",
    "\n",
    "Watson Natural Language Understanding: IBM's NLP service offers NER as one of its features, allowing you to identify entities in text.\n",
    "\n",
    "Amazon Comprehend: Amazon's NLP service also includes NER capabilities for extracting entities from text.\n",
    "\n",
    "Google Cloud Natural Language API: Google's NLP service provides NER as part of its features, enabling entity recognition from text.\n",
    "\n",
    "AllenNLP: An open-source NLP library, AllenNLP offers various pre-trained models for NER tasks.\n",
    "\n",
    "GROBID NER : GROBID (GeneRation Of BIbliographic Data) is an open-source machine learning library designed to extract and structure bibliographic metadata from scholarly documents. While GROBID's primary focus is on bibliographic data extraction, it also includes a Named Entity Recognition (NER) component that can be used to extract entities like person names, dates, and locations from scholarly texts.\n",
    "\n",
    "GROBID NER is trained to recognize specific types of entities commonly found in scholarly documents, such as author names, publication dates, journal titles, and more. It's particularly useful for processing academic literature and extracting structured information from research papers and articles.\n",
    "\n",
    "Keep in mind that GROBID NER is tailored for extracting entities related to bibliographic and scholarly data, and its capabilities may be different from general-purpose NER models that are trained on a wider variety of text sources.\n",
    "\n",
    "DBpedia Spotlight: A popular tool that performs both NER and entity linking by linking recognized entities to their corresponding entries in the DBpedia knowledge base.\n",
    "\n",
    "FOX (Federated Knowledge Extraction Framework): An open-source framework that provides NER and entity linking capabilities. It supports various knowledge bases, such as DBpedia, YAGO, and more.\n",
    "\n",
    "TagMe: A tool that performs entity linking by recognizing entities in text and linking them to Wikipedia articles.\n",
    "\n",
    "AIDA (Advanced Interactive Document Analysis): An open-source tool that performs entity recognition and disambiguation by linking recognized entities to the YAGO knowledge base.\n",
    "\n",
    "LingPipe: A natural language processing library that provides tools for various NLP tasks, including NER and entity linking.\n",
    "\n",
    "NIF (NLP Interchange Format): A framework that supports annotation and linking of entities in text to external knowledge bases.\n",
    "\n",
    "GERBIL (General Entity Annotator Benchmark): A benchmarking platform that allows you to evaluate the performance of different NERD tools on various datasets.\n",
    "\n",
    "ThDE (THU Disney Entity): A tool that recognizes and links entities to both English and Chinese knowledge bases.\n",
    "\n",
    "LIMSI Entity Linking Toolkit: A toolkit developed by the LIMSI laboratory that provides NER and entity linking functionalities.\n",
    "\n",
    "Babelfy: A tool that performs both NER and entity linking by mapping recognized entities to BabelNet, a multilingual lexicalized semantic network.\n",
    "\n",
    "CLENER (Cross-lingual Entity Linking): A tool that focuses on cross-lingual entity linking, linking entities in different languages to a common knowledge base."
   ]
  },
  {
   "cell_type": "markdown",
   "id": "6acf9a37",
   "metadata": {},
   "source": [
    "+++++++++++++++++++++++++++++++++++++++++++++++++++++NERD comparisons++++++++++++++++++++++++++++++++++++++++"
   ]
  },
  {
   "cell_type": "markdown",
   "id": "c2633d2e",
   "metadata": {},
   "source": [
    "**Entity fishing GROBID NER**- 27 named entity classes (https://grobid-ner.readthedocs.io/en/latest/),trained on Wikipedia articles &  CONLL 2003, Kb- Wikidata\n",
    "\n",
    "**Spacyfishing**  - 20 named entity classes (https://sparknlp.org/2020/12/05/onto_bert_base_cased_en.html), trained on OntoNotes,kb- wikidata\n",
    "\n",
    "**FEL** - used for TweetsKb  (https://github.com/yahoo/FEL) , repository archived in 2021\n",
    "\n",
    "**BLINK**(https://github.com/facebookresearch/BLINK) - uses Flair for NER(https://github.com/flairNLP/flair) , trained on Ontonotes (18-class) (https://flairnlp.github.io/docs/tutorial-basics/tagging-entities#tagging-entities-with-our-best-model), similar to Spacy,kb -2019/08/01 Wikipedia dump\n",
    "\n",
    "**Dbpedia spotlight** - https://github.com/dbpedia-spotlight/dbpedia-spotlight-model  (annotating mentions of DBpedia resources in text) doesnt work well for short text (https://www.dbpedia-spotlight.org/faq)\n",
    "   --(requires Java,Scala,Spotlight JAR,large RAM 8gb, maven)"
   ]
  },
  {
   "cell_type": "code",
   "execution_count": 92,
   "id": "aa4d5838",
   "metadata": {},
   "outputs": [],
   "source": [
    "list = [\"Human CO2 emissions too small to be cause of global warming.\",\n",
    "        \"Photographs show a one-eyed shark fetus.\",\n",
    "        \"No, vaccines wont make you seedless.\",\n",
    "        \"Nine in 10 school-age girls are being sent explicit images.\",\n",
    "        \"Barack Obama loves Che Guevara.\",\n",
    "        \"Elon Musk bought Google.\",\n",
    "        \"Body of Missing White House Intern Margaret Sanguay Found.\",\n",
    "        \"A large-scale killing of white farmers is taking place in South Africa.\",\n",
    "        \"Tesla CEO Elon Musk and Jeffrey Epstein associate Ghislaine Maxwell were once photographed together.\",\n",
    "        \"An illustration shows that the Covid-19 test involves a swab going all the way to the back of the nose.\"\n",
    "       ]"
   ]
  },
  {
   "cell_type": "markdown",
   "id": "17a5395f",
   "metadata": {},
   "source": [
    "-------------------------------------------------**Entity fishing GROBID NER**-----------------------------------------------------"
   ]
  },
  {
   "cell_type": "code",
   "execution_count": 79,
   "id": "84ca379d",
   "metadata": {},
   "outputs": [
    {
     "name": "stdout",
     "output_type": "stream",
     "text": [
      "\n",
      "\n",
      " 2023-08-13 22:27:25,383 - nerd.nerd_client - DEBUG - About to submit the following query {'text': 'Human CO2 emissions too small to be cause of global warming.', 'entities': [], 'customisation': 'generic', 'sentence': 'true'}\n",
      "({'text': 'Human CO2 emissions too small to be cause of global warming.', 'entities': [{'rawName': 'Human', 'offsetStart': 0, 'offsetEnd': 5, 'confidence_score': 0.3728, 'wikipediaExternalRef': 682482, 'wikidataId': 'Q5', 'domains': ['Biology']}, {'rawName': 'CO2 emissions', 'offsetStart': 6, 'offsetEnd': 19, 'confidence_score': 0.5479, 'wikipediaExternalRef': 9528025, 'wikidataId': 'Q3588927', 'domains': ['Meteorology']}, {'rawName': 'global warming', 'offsetStart': 45, 'offsetEnd': 59, 'confidence_score': 0.9029, 'wikipediaExternalRef': 5042951, 'wikidataId': 'Q7942', 'domains': ['Biology']}], 'customisation': 'generic', 'sentence': 'true', 'language': {'lang': 'en', 'conf': 0.999997733551632}}, 200)\n",
      "-------\n",
      "\n",
      "\n",
      " 2023-08-13 22:27:35,538 - nerd.nerd_client - DEBUG - About to submit the following query {'text': 'Photographs show a one-eyed shark fetus.', 'entities': [], 'customisation': 'generic', 'sentence': 'true'}\n",
      "({'text': 'Photographs show a one-eyed shark fetus.', 'entities': [{'rawName': 'Photographs', 'offsetStart': 0, 'offsetEnd': 11, 'confidence_score': 0.3715, 'wikipediaExternalRef': 2486323, 'wikidataId': 'Q3901703', 'domains': ['Sociology']}, {'rawName': 'eyed', 'offsetStart': 23, 'offsetEnd': 27, 'confidence_score': 0.4978, 'wikipediaExternalRef': 157898, 'wikidataId': 'Q7364', 'domains': ['Medicine']}, {'rawName': 'fetus', 'offsetStart': 34, 'offsetEnd': 39, 'confidence_score': 0.8394, 'wikipediaExternalRef': 20130936, 'wikidataId': 'Q26513', 'domains': ['Sociology', 'Biology', 'Animals']}], 'customisation': 'generic', 'sentence': 'true', 'language': {'lang': 'en', 'conf': 0.9999963921961692}}, 200)\n",
      "-------\n",
      "\n",
      "\n",
      " 2023-08-13 22:27:45,628 - nerd.nerd_client - DEBUG - About to submit the following query {'text': 'No, vaccines wont make you seedless.', 'entities': [], 'customisation': 'generic', 'sentence': 'true'}\n",
      "({'text': 'No, vaccines wont make you seedless.', 'entities': [{'rawName': 'vaccines', 'offsetStart': 4, 'offsetEnd': 12, 'confidence_score': 0.4151, 'wikipediaExternalRef': 32653, 'wikidataId': 'Q134808', 'domains': ['Medicine', 'Engineering', 'Biology', 'Health']}, {'rawName': 'seedless', 'offsetStart': 27, 'offsetEnd': 35, 'confidence_score': 0.414, 'wikipediaExternalRef': 4299055, 'wikidataId': 'Q7445673', 'domains': ['Plants', 'Agriculture']}], 'customisation': 'generic', 'sentence': 'true', 'language': {'lang': 'en', 'conf': 0.8571418606082896}}, 200)\n",
      "-------\n",
      "\n",
      "\n",
      " 2023-08-13 22:27:55,712 - nerd.nerd_client - DEBUG - About to submit the following query {'text': 'Nine in 10 school-age girls are being sent explicit images.', 'entities': [], 'customisation': 'generic', 'sentence': 'true'}\n",
      "({'text': 'Nine in 10 school-age girls are being sent explicit images.', 'entities': [{'rawName': '10', 'type': 'MEASURE', 'offsetStart': 8, 'offsetEnd': 10, 'confidence_score': 0}, {'rawName': 'school-age', 'offsetStart': 11, 'offsetEnd': 21, 'confidence_score': 0.5734, 'wikipediaExternalRef': 95250, 'wikidataId': 'Q2347178', 'domains': ['Biology']}, {'rawName': 'explicit', 'offsetStart': 43, 'offsetEnd': 51, 'confidence_score': 0.3694, 'wikipediaExternalRef': 1717129, 'wikidataId': 'Q18608', 'domains': ['Biology']}], 'customisation': 'generic', 'sentence': 'true', 'language': {'lang': 'en', 'conf': 0.7142830840369293}}, 200)\n",
      "-------\n",
      "\n",
      "\n",
      " 2023-08-13 22:28:05,803 - nerd.nerd_client - DEBUG - About to submit the following query {'text': 'Barack Obama loves Che Guevara.', 'entities': [], 'customisation': 'generic', 'sentence': 'true'}\n",
      "({'text': 'Barack Obama loves Che Guevara.', 'entities': [{'rawName': 'Barack Obama', 'offsetStart': 0, 'offsetEnd': 12, 'confidence_score': 0.9934, 'wikipediaExternalRef': 430434, 'wikidataId': 'Q76', 'domains': ['Administration', 'Biology', 'Sociology']}, {'rawName': 'Che Guevara', 'offsetStart': 19, 'offsetEnd': 30, 'confidence_score': 0.9815, 'wikipediaExternalRef': 12743, 'wikidataId': 'Q5809', 'domains': ['Sociology', 'Military']}], 'customisation': 'generic', 'sentence': 'true', 'language': {'lang': 'es', 'conf': 0.8571378483661893}}, 200)\n",
      "-------\n",
      "\n",
      "\n",
      " 2023-08-13 22:28:15,890 - nerd.nerd_client - DEBUG - About to submit the following query {'text': 'Elon Musk bought Google.', 'entities': [], 'customisation': 'generic', 'sentence': 'true'}\n",
      "({'text': 'Elon Musk bought Google.', 'entities': [{'rawName': 'Elon Musk', 'offsetStart': 0, 'offsetEnd': 9, 'confidence_score': 0.9165, 'wikipediaExternalRef': 909036, 'wikidataId': 'Q317521', 'domains': ['Aviation', 'Transport', 'Vehicles']}, {'rawName': 'Google', 'offsetStart': 17, 'offsetEnd': 23, 'confidence_score': 0.8002, 'wikipediaExternalRef': 12431, 'wikidataId': 'Q9366', 'domains': ['Electronics', 'Computer_Science']}], 'customisation': 'generic', 'sentence': 'true', 'language': {'lang': 'en', 'conf': 0.9999965147295766}}, 200)\n",
      "-------\n",
      "\n",
      "\n",
      " 2023-08-13 22:28:25,995 - nerd.nerd_client - DEBUG - About to submit the following query {'text': 'Body of Missing White House Intern Margaret Sanguay Found.', 'entities': [], 'customisation': 'generic', 'sentence': 'true'}\n",
      "({'text': 'Body of Missing White House Intern Margaret Sanguay Found.', 'entities': [{'rawName': 'Body', 'offsetStart': 0, 'offsetEnd': 4, 'confidence_score': 0.3697, 'wikipediaExternalRef': 1134350, 'wikidataId': 'Q727606', 'domains': ['Biology', 'Sociology']}, {'rawName': 'Missing', 'offsetStart': 8, 'offsetEnd': 15, 'confidence_score': 0.4174, 'wikipediaExternalRef': 32081575, 'wikidataId': 'Q2527534', 'domains': ['Telecommunication']}, {'rawName': 'White House Intern', 'offsetStart': 16, 'offsetEnd': 34, 'confidence_score': 0.8397, 'wikipediaExternalRef': 50669493, 'wikidataId': 'Q24966273', 'domains': ['Administration', 'Pedagogy', 'Sociology', 'Commerce', 'Enterprise']}, {'rawName': 'Margaret', 'offsetStart': 35, 'offsetEnd': 43, 'confidence_score': 0.3839, 'wikipediaExternalRef': 4158713, 'wikidataId': 'Q1323632', 'domains': ['Sociology']}], 'customisation': 'generic', 'sentence': 'true', 'language': {'lang': 'en', 'conf': 0.9999952710833824}}, 200)\n",
      "-------\n",
      "\n",
      "\n",
      " 2023-08-13 22:28:36,124 - nerd.nerd_client - DEBUG - About to submit the following query {'text': 'A large-scale killing of white farmers is taking place in South Africa.', 'entities': [], 'customisation': 'generic', 'sentence': 'true'}\n",
      "({'text': 'A large-scale killing of white farmers is taking place in South Africa.', 'entities': [{'rawName': 'large-scale', 'offsetStart': 2, 'offsetEnd': 13, 'confidence_score': 0.3581, 'wikipediaExternalRef': 1573372, 'wikidataId': 'Q193642', 'domains': ['Geography', 'Geology', 'Oceanography', 'Earth']}, {'rawName': 'white farmers', 'offsetStart': 25, 'offsetEnd': 38, 'confidence_score': 0.3824, 'wikipediaExternalRef': 18947965, 'wikidataId': 'Q385799', 'domains': ['Administration', 'Sociology']}, {'rawName': 'taking place', 'offsetStart': 42, 'offsetEnd': 54, 'confidence_score': 0.5646, 'wikipediaExternalRef': 156007, 'wikidataId': 'Q678345', 'domains': ['Telecommunication', 'Electronics', 'Computer_Science']}, {'rawName': 'South Africa', 'offsetStart': 58, 'offsetEnd': 70, 'confidence_score': 0.7347, 'wikipediaExternalRef': 17416221, 'wikidataId': 'Q258', 'domains': ['Administration', 'Geology', 'Economy']}], 'customisation': 'generic', 'sentence': 'true', 'language': {'lang': 'en', 'conf': 0.9999972525307022}}, 200)\n",
      "-------\n",
      "\n",
      "\n",
      " 2023-08-13 22:28:46,267 - nerd.nerd_client - DEBUG - About to submit the following query {'text': 'Tesla CEO Elon Musk and Jeffrey Epstein associate Ghislaine Maxwell were once photographed together.', 'entities': [], 'customisation': 'generic', 'sentence': 'true'}\n",
      "({'text': 'Tesla CEO Elon Musk and Jeffrey Epstein associate Ghislaine Maxwell were once photographed together.', 'entities': [{'rawName': 'Tesla CEO Elon Musk', 'offsetStart': 0, 'offsetEnd': 19, 'confidence_score': 0.6093, 'wikipediaExternalRef': 909036, 'wikidataId': 'Q317521', 'domains': ['Aviation', 'Transport', 'Vehicles']}, {'rawName': 'Jeffrey Epstein', 'offsetStart': 24, 'offsetEnd': 39, 'confidence_score': 0.9152, 'wikipediaExternalRef': 6253522, 'wikidataId': 'Q2904131', 'domains': ['Commerce', 'Enterprise', 'Administration', 'Sociology']}, {'rawName': 'Ghislaine Maxwell', 'offsetStart': 50, 'offsetEnd': 67, 'confidence_score': 0.9134, 'wikipediaExternalRef': 32018562, 'wikidataId': 'Q5556756', 'domains': ['Aviation', 'Transport', 'Biology', 'Sociology']}, {'rawName': 'photographed', 'offsetStart': 78, 'offsetEnd': 90, 'confidence_score': 0.3687, 'wikipediaExternalRef': 23604, 'wikidataId': 'Q11633', 'domains': ['Artisanship', 'Optics']}], 'customisation': 'generic', 'sentence': 'true', 'language': {'lang': 'en', 'conf': 0.9999960403683797}}, 200)\n",
      "-------\n",
      "\n",
      "\n",
      " 2023-08-13 22:28:56,395 - nerd.nerd_client - DEBUG - About to submit the following query {'text': 'An illustration shows that the Covid-19 test involves a swab going all the way to the back of the nose.', 'entities': [], 'customisation': 'generic', 'sentence': 'true'}\n",
      "({'text': 'An illustration shows that the Covid-19 test involves a swab going all the way to the back of the nose.', 'entities': [{'rawName': 'illustration', 'offsetStart': 3, 'offsetEnd': 15, 'confidence_score': 0.4021, 'wikipediaExternalRef': 247107, 'wikidataId': 'Q178659', 'domains': ['Artisanship']}, {'rawName': '19', 'type': 'MEASURE', 'offsetStart': 37, 'offsetEnd': 39, 'confidence_score': 0}, {'rawName': 'swab', 'offsetStart': 56, 'offsetEnd': 60, 'confidence_score': 0.3689, 'wikipediaExternalRef': 609096, 'wikidataId': 'Q12201', 'domains': ['Body_Care', 'Home']}], 'customisation': 'generic', 'sentence': 'true', 'language': {'lang': 'en', 'conf': 0.9999993409360898}}, 200)\n",
      "-------\n"
     ]
    }
   ],
   "source": [
    "for i in range(len(list)):\n",
    "    \n",
    "    print(client.disambiguate_text(list[i]))\n",
    "    print(\"-------\")\n",
    "    time.sleep(10)"
   ]
  },
  {
   "cell_type": "markdown",
   "id": "12755f46",
   "metadata": {},
   "source": [
    "--------------------------------------------****     Spacy entityfishing             ****-------------------------------\n",
    "#unstable and produces different results in each runs"
   ]
  },
  {
   "cell_type": "code",
   "execution_count": 106,
   "id": "2c55bbff",
   "metadata": {},
   "outputs": [
    {
     "data": {
      "text/plain": [
       "<spacyfishing.entity_fishing_linker.EntityFishing at 0x24a07342eb0>"
      ]
     },
     "execution_count": 106,
     "metadata": {},
     "output_type": "execute_result"
    }
   ],
   "source": [
    "import spacy\n",
    "\n",
    "\n",
    "\n",
    "nlp_model_en = spacy.load(\"en_core_web_sm\")\n",
    "\n",
    "nlp_model_en.add_pipe(\"entityfishing\")\n",
    "\n"
   ]
  },
  {
   "cell_type": "code",
   "execution_count": 198,
   "id": "f270d63f",
   "metadata": {},
   "outputs": [
    {
     "name": "stdout",
     "output_type": "stream",
     "text": [
      "Human CO2 emissions too small to be cause of global warming. ('2', 'CARDINAL', None, None, None)\n",
      "Nine in 10 school-age girls are being sent explicit images. ('1', 'CARDINAL', None, None, None)\n",
      "Nine in 10 school-age girls are being sent explicit images. ('0', 'CARDINAL', None, None, None)\n",
      "An illustration shows that the Covid-19 test involves a swab going all the way to the back of the nose. ('1', 'CARDINAL', None, None, None)\n",
      "An illustration shows that the Covid-19 test involves a swab going all the way to the back of the nose. ('9', 'CARDINAL', None, None, None)\n"
     ]
    }
   ],
   "source": [
    "\n",
    "# set number of documents to be processed at once via batch_size\n",
    "for i in range(len(list)):\n",
    "    docs_en = nlp_model_en.pipe(list[i], batch_size=128)\n",
    "\n",
    "    for doc_en in docs_en:\n",
    "        for ent in doc_en.ents:\n",
    "            print(list[i],(ent.text, ent.label_, ent._.kb_qid, ent._.url_wikidata, ent._.nerd_score))"
   ]
  },
  {
   "cell_type": "code",
   "execution_count": 193,
   "id": "32508e56",
   "metadata": {},
   "outputs": [
    {
     "name": "stdout",
     "output_type": "stream",
     "text": [
      "('one', 'CARDINAL', None, None, None)\n",
      "('Nine', 'CARDINAL', 'Q2278286', 'https://www.wikidata.org/wiki/Q2278286', 0.3459)\n",
      "('10', 'CARDINAL', 'Q184591', 'https://www.wikidata.org/wiki/Q184591', 0.3274)\n",
      "('Barack Obama', 'PERSON', 'Q76', 'https://www.wikidata.org/wiki/Q76', 0.7069)\n",
      "('Che Guevara', 'PERSON', 'Q5809', 'https://www.wikidata.org/wiki/Q5809', 0.7048)\n",
      "('Elon Musk', 'PERSON', 'Q317521', 'https://www.wikidata.org/wiki/Q317521', 0.9165)\n",
      "('Google', 'ORG', 'Q95', 'https://www.wikidata.org/wiki/Q95', 0.6657)\n",
      "('Margaret Sanguay', 'PERSON', None, None, None)\n",
      "('South Africa', 'GPE', None, None, None)\n",
      "('Tesla', 'ORG', None, None, None)\n",
      "('Elon Musk', 'PERSON', None, None, None)\n",
      "('Jeffrey Epstein', 'PERSON', None, None, None)\n",
      "('Ghislaine Maxwell', 'PERSON', None, None, None)\n"
     ]
    }
   ],
   "source": [
    "# set number of documents to be processed at once via batch_size\n",
    "docs_en = nlp_model_en.pipe(list, batch_size=128)\n",
    "\n",
    "for doc_en in docs_en:\n",
    "    for ent in doc_en.ents:\n",
    "        print((ent.text, ent.label_, ent._.kb_qid, ent._.url_wikidata, ent._.nerd_score))"
   ]
  },
  {
   "cell_type": "code",
   "execution_count": 197,
   "id": "c3abc2c4",
   "metadata": {},
   "outputs": [
    {
     "name": "stdout",
     "output_type": "stream",
     "text": [
      "('one', 'CARDINAL', None, None, None)\n",
      "('Nine', 'CARDINAL', 'Q2278286', 'https://www.wikidata.org/wiki/Q2278286', 0.3459)\n",
      "('10', 'CARDINAL', 'Q184591', 'https://www.wikidata.org/wiki/Q184591', 0.3274)\n",
      "('Barack Obama', 'PERSON', None, None, None)\n",
      "('Che Guevara', 'PERSON', None, None, None)\n",
      "('Elon Musk', 'PERSON', None, None, None)\n",
      "('Google', 'ORG', None, None, None)\n",
      "('Margaret Sanguay', 'PERSON', None, None, None)\n",
      "('South Africa', 'GPE', 'Q258', 'https://www.wikidata.org/wiki/Q258', 0.4601)\n"
     ]
    }
   ],
   "source": [
    "docs_en = nlp_model_en.pipe(list, batch_size=128)\n",
    "\n",
    "for doc_en in docs_en:\n",
    "    for ent in doc_en.ents:\n",
    "        print((ent.text, ent.label_, ent._.kb_qid, ent._.url_wikidata, ent._.nerd_score))"
   ]
  },
  {
   "cell_type": "code",
   "execution_count": 1,
   "id": "13a35895",
   "metadata": {},
   "outputs": [],
   "source": [
    "import requests\n",
    "import json\n"
   ]
  },
  {
   "cell_type": "code",
   "execution_count": 2,
   "id": "ae77d7ce",
   "metadata": {},
   "outputs": [],
   "source": [
    "input_text = \"Tesla CEO Elon Musk and Jeffrey Epstein associate Ghislaine Maxwell were once photographed together.\"\n"
   ]
  },
  {
   "cell_type": "code",
   "execution_count": 76,
   "id": "6c5b9e44",
   "metadata": {},
   "outputs": [
    {
     "name": "stdout",
     "output_type": "stream",
     "text": [
      "{'@text': 'Human CO2 emissions too small to be cause of global warming.', '@confidence': '0.5', '@support': '0', '@types': '', '@sparql': '', '@policy': 'whitelist', 'Resources': [{'@URI': 'http://dbpedia.org/resource/Carbon_dioxide', '@support': '12657', '@types': 'Wikidata:Q11173,DUL:ChemicalObject,DBpedia:ChemicalSubstance,DBpedia:ChemicalCompound', '@surfaceForm': 'CO2', '@offset': '6', '@similarityScore': '0.9977947190679491', '@percentageOfSecondRank': '0.002045099759354147'}, {'@URI': 'http://dbpedia.org/resource/Global_warming', '@support': '22604', '@types': '', '@surfaceForm': 'global warming', '@offset': '45', '@similarityScore': '0.999854758313225', '@percentageOfSecondRank': '1.0931167547206099E-4'}]}\n",
      "-----\n",
      "{'@text': 'Photographs show a one-eyed shark fetus.', '@confidence': '0.5', '@support': '0', '@types': '', '@sparql': '', '@policy': 'whitelist', 'Resources': [{'@URI': 'http://dbpedia.org/resource/Fetus', '@support': '3736', '@types': '', '@surfaceForm': 'fetus', '@offset': '34', '@similarityScore': '0.9999999023297098', '@percentageOfSecondRank': '0.0'}]}\n",
      "-----\n",
      "{'@text': 'No, vaccines wont make you seedless.', '@confidence': '0.5', '@support': '0', '@types': '', '@sparql': '', '@policy': 'whitelist'}\n",
      "-----\n",
      "{'@text': 'Nine in 10 school-age girls are being sent explicit images.', '@confidence': '0.5', '@support': '0', '@types': '', '@sparql': '', '@policy': 'whitelist'}\n",
      "-----\n",
      "{'@text': 'Barack Obama loves Che Guevara.', '@confidence': '0.5', '@support': '0', '@types': '', '@sparql': '', '@policy': 'whitelist', 'Resources': [{'@URI': 'http://dbpedia.org/resource/Barack_Obama', '@support': '27440', '@types': 'Http://xmlns.com/foaf/0.1/Person,Wikidata:Q82955,Wikidata:Q5,Wikidata:Q24229398,Wikidata:Q215627,DUL:NaturalPerson,DUL:Agent,Schema:Person,DBpedia:Person,DBpedia:Agent,DBpedia:Politician', '@surfaceForm': 'Barack Obama', '@offset': '0', '@similarityScore': '0.9999825740666114', '@percentageOfSecondRank': '1.1454377756959859E-5'}, {'@URI': 'http://dbpedia.org/resource/Che_Guevara', '@support': '2217', '@types': 'Http://xmlns.com/foaf/0.1/Person,Wikidata:Q5,Wikidata:Q24229398,Wikidata:Q215627,DUL:NaturalPerson,DUL:Agent,Schema:Person,DBpedia:Agent,DBpedia:Person', '@surfaceForm': 'Guevara', '@offset': '23', '@similarityScore': '0.999999999892836', '@percentageOfSecondRank': '5.485571024903914E-11'}]}\n",
      "-----\n",
      "{'@text': 'Elon Musk bought Google.', '@confidence': '0.5', '@support': '0', '@types': '', '@sparql': '', '@policy': 'whitelist', 'Resources': [{'@URI': 'http://dbpedia.org/resource/Elon_Musk', '@support': '1028', '@types': '', '@surfaceForm': 'Elon', '@offset': '0', '@similarityScore': '0.9998014116498058', '@percentageOfSecondRank': '1.665616723258541E-4'}, {'@URI': 'http://dbpedia.org/resource/Google', '@support': '33925', '@types': 'Wikidata:Q4830453,Wikidata:Q43229,Wikidata:Q24229398,DUL:SocialPerson,DUL:Agent,Schema:Organization,DBpedia:Organisation,DBpedia:Agent,DBpedia:Company', '@surfaceForm': 'Google', '@offset': '17', '@similarityScore': '0.9999515892555488', '@percentageOfSecondRank': '4.2019489830949875E-5'}]}\n",
      "-----\n",
      "{'@text': 'Body of Missing White House Intern Margaret Sanguay Found.', '@confidence': '0.5', '@support': '0', '@types': '', '@sparql': '', '@policy': 'whitelist', 'Resources': [{'@URI': 'http://dbpedia.org/resource/White_House', '@support': '20498', '@types': 'Wikidata:Q41176,Schema:Place,DBpedia:Place,DBpedia:Location,DBpedia:ArchitecturalStructure,DBpedia:Building', '@surfaceForm': 'White House', '@offset': '16', '@similarityScore': '0.9866368890336751', '@percentageOfSecondRank': '0.011091128056688626'}]}\n",
      "-----\n",
      "{'@text': 'A large-scale killing of white farmers is taking place in South Africa.', '@confidence': '0.5', '@support': '0', '@types': '', '@sparql': '', '@policy': 'whitelist', 'Resources': [{'@URI': 'http://dbpedia.org/resource/South_Africa', '@support': '82898', '@types': 'Wikidata:Q6256,Schema:Place,Schema:Country,DBpedia:PopulatedPlace,DBpedia:Place,DBpedia:Location,DBpedia:Country', '@surfaceForm': 'South Africa', '@offset': '58', '@similarityScore': '0.9977287719394208', '@percentageOfSecondRank': '9.049835075637024E-4'}]}\n",
      "-----\n",
      "{'@text': 'Tesla CEO Elon Musk and Jeffrey Epstein associate Ghislaine Maxwell were once photographed together.', '@confidence': '0.5', '@support': '0', '@types': '', '@sparql': '', '@policy': 'whitelist', 'Resources': [{'@URI': 'http://dbpedia.org/resource/Tesla_Model_3', '@support': '453', '@types': 'Schema:Product,DBpedia:MeanOfTransportation,DBpedia:Automobile', '@surfaceForm': 'Tesla', '@offset': '0', '@similarityScore': '0.8611072046202428', '@percentageOfSecondRank': '0.16123062516034467'}, {'@URI': 'http://dbpedia.org/resource/Chief_executive_officer', '@support': '21733', '@types': '', '@surfaceForm': 'CEO', '@offset': '6', '@similarityScore': '0.999998802534271', '@percentageOfSecondRank': '1.1322503808686818E-6'}, {'@URI': 'http://dbpedia.org/resource/Elon_Musk', '@support': '1028', '@types': '', '@surfaceForm': 'Elon', '@offset': '10', '@similarityScore': '0.9999999380270898', '@percentageOfSecondRank': '5.208287192689886E-8'}, {'@URI': 'http://dbpedia.org/resource/Jeffrey_Epstein', '@support': '330', '@types': 'Http://xmlns.com/foaf/0.1/Person,Wikidata:Q5,Wikidata:Q24229398,Wikidata:Q215627,DUL:NaturalPerson,DUL:Agent,Schema:Person,DBpedia:Agent,DBpedia:Person', '@surfaceForm': 'Jeffrey Epstein', '@offset': '24', '@similarityScore': '1.0', '@percentageOfSecondRank': '0.0'}, {'@URI': 'http://dbpedia.org/resource/Ghislaine_Maxwell', '@support': '49', '@types': 'Http://xmlns.com/foaf/0.1/Person,Wikidata:Q5,Wikidata:Q24229398,Wikidata:Q215627,DUL:NaturalPerson,DUL:Agent,Schema:Person,DBpedia:Agent,DBpedia:Person', '@surfaceForm': 'Ghislaine Maxwell', '@offset': '50', '@similarityScore': '1.0', '@percentageOfSecondRank': '0.0'}]}\n",
      "-----\n",
      "{'@text': 'An illustration shows that the Covid-19 test involves a swab going all the way to the back of the nose.', '@confidence': '0.5', '@support': '0', '@types': '', '@sparql': '', '@policy': 'whitelist', 'Resources': [{'@URI': 'http://dbpedia.org/resource/Coronavirus_disease_2019', '@support': '336', '@types': '', '@surfaceForm': 'Covid-19', '@offset': '31', '@similarityScore': '1.0', '@percentageOfSecondRank': '0.0'}]}\n",
      "-----\n"
     ]
    }
   ],
   "source": [
    "\n",
    "for i in range(len(list)):\n",
    "    data=\"text=\"+list[i]\n",
    "    #data=\"text=\"+\"Photographs show a one-eyed shark fetus.\"\n",
    "\n",
    "    result = requests.post(\"https://api.dbpedia-spotlight.org/en/annotate\", data=data, headers={\"Accept\": \"application/json\"})\n",
    "    print(json.loads(result.text))\n",
    "    print(\"-----\")"
   ]
  },
  {
   "cell_type": "code",
   "execution_count": null,
   "id": "09cd34da",
   "metadata": {},
   "outputs": [],
   "source": []
  }
 ],
 "metadata": {
  "kernelspec": {
   "display_name": "Python 3 (ipykernel)",
   "language": "python",
   "name": "python3"
  },
  "language_info": {
   "codemirror_mode": {
    "name": "ipython",
    "version": 3
   },
   "file_extension": ".py",
   "mimetype": "text/x-python",
   "name": "python",
   "nbconvert_exporter": "python",
   "pygments_lexer": "ipython3",
   "version": "3.9.7"
  }
 },
 "nbformat": 4,
 "nbformat_minor": 5
}
